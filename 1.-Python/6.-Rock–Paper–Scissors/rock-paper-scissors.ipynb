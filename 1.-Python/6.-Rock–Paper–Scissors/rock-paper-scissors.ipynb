{
 "cells": [
  {
   "cell_type": "markdown",
   "metadata": {},
   "source": [
    "<img src=\"https://bit.ly/2VnXWr2\" width=\"100\" align=\"left\">"
   ]
  },
  {
   "cell_type": "markdown",
   "metadata": {},
   "source": [
    "# Rock, Paper & Scissors\n",
    "\n",
    "Let's play the famous game against our computer. You can check the rules [here](https://en.wikipedia.org/wiki/Rock%E2%80%93paper%E2%80%93scissors). \n",
    "\n",
    "## Task\n",
    "Create a program that imitates the playability of the well known game of rock, paper, scissors. Follow the guidelines provided.\n",
    "\n",
    "## Tools\n",
    "1. Loop: **for/while**\n",
    "2. Functions: **input(), print()...**\n",
    "3. Conditional statements: **if, elif, else**\n",
    "4. Definition of functions. Modular programming\n",
    "5. Import modules\n",
    "\n",
    "**To solve this challenge, the use of functions is recommended.**\n",
    "\n",
    "#### 1. Import the choice function of the random module."
   ]
  },
  {
   "cell_type": "code",
   "execution_count": 1,
   "metadata": {},
   "outputs": [],
   "source": [
    "from random import choice\n",
    "ROCK = 'rock'\n",
    "PAPER = 'paper'\n",
    "SCISSORS = 'scissors'\n",
    "CPU = 'cpu'\n",
    "PLAYER = 'player'"
   ]
  },
  {
   "cell_type": "markdown",
   "metadata": {},
   "source": [
    "#### 2. Create a list that includes the 3 possible gesture options of the game: 'rock', 'paper' or 'scissors'. Store the list in a variable called `gestures`."
   ]
  },
  {
   "cell_type": "code",
   "execution_count": 2,
   "metadata": {},
   "outputs": [],
   "source": [
    "gestures = [ROCK, PAPER, SCISSORS]"
   ]
  },
  {
   "cell_type": "markdown",
   "metadata": {},
   "source": [
    "#### 3. Create a variable called `n_rounds` to store the maximum number of rounds to play in a game. \n",
    "Remember that the number of rounds must be odd: 1, 3, 5, ..."
   ]
  },
  {
   "cell_type": "code",
   "execution_count": 3,
   "metadata": {},
   "outputs": [],
   "source": [
    "n_rounds = 5"
   ]
  },
  {
   "cell_type": "markdown",
   "metadata": {},
   "source": [
    "#### 4. Create a variable called `rounds_to_win` to store the number of rounds that a player must win to win the game.\n",
    "**Hint**: the value stored in `rounds_to_win` depends on the value of `n_rounds`. "
   ]
  },
  {
   "cell_type": "code",
   "execution_count": 4,
   "metadata": {},
   "outputs": [],
   "source": [
    "rounds_to_win = round((n_rounds+1)/2)"
   ]
  },
  {
   "cell_type": "markdown",
   "metadata": {},
   "source": [
    "#### 5. Create two variables to store the number of rounds that the computer and the player have won. Call these variables `cpu_score` and `player_score`."
   ]
  },
  {
   "cell_type": "code",
   "execution_count": 5,
   "metadata": {},
   "outputs": [],
   "source": [
    "cpu_score = 0\n",
    "player_score = 0\n",
    "ties = 0\n",
    "current_round = 0"
   ]
  },
  {
   "cell_type": "markdown",
   "metadata": {},
   "source": [
    "#### 6. Define a function that randomly returns one of the 3 gesture options.\n",
    "You will use this function to simulate the gesture choice of the computer. "
   ]
  },
  {
   "cell_type": "code",
   "execution_count": 6,
   "metadata": {},
   "outputs": [],
   "source": [
    "def get_cpu_move():\n",
    "    return choice(gestures)"
   ]
  },
  {
   "cell_type": "markdown",
   "metadata": {},
   "source": [
    "#### 7. Define a function that asks the player which is the gesture he or she wants to show: 'rock', 'paper' or 'scissors'.\n",
    "The player should only be allowed to choose one of the 3 gesture options. If the player's choice is not rock, paper or scissors, keep asking until it is."
   ]
  },
  {
   "cell_type": "code",
   "execution_count": 7,
   "metadata": {},
   "outputs": [],
   "source": [
    "def get_player_move():\n",
    "    player = None\n",
    "    while player not in gestures:\n",
    "        player = input('rock, paper, scissors? ').lower()\n",
    "    return player"
   ]
  },
  {
   "cell_type": "markdown",
   "metadata": {},
   "source": [
    "#### 8. Define a function that checks who won a round. \n",
    "The function should return 0 if there is a tie, 1 if the computer wins and 2 if the player wins."
   ]
  },
  {
   "cell_type": "code",
   "execution_count": 8,
   "metadata": {},
   "outputs": [],
   "source": [
    "def get_winner(cpu, player):\n",
    "    if cpu == player:\n",
    "        return 0\n",
    "    winner = 1\n",
    "    if cpu == ROCK and player == PAPER:\n",
    "        winner = 2\n",
    "    elif cpu == PAPER and player == SCISSORS:\n",
    "        winner = 2\n",
    "    elif cpu == SCISSORS and player == ROCK:\n",
    "        winner = 2\n",
    "    return winner"
   ]
  },
  {
   "cell_type": "markdown",
   "metadata": {},
   "source": [
    "#### 9. Define a function that prints the choice of the computer, the choice of the player and a message that announces who won the current round. \n",
    "You should also use this function to update the variables that count the number of rounds that the computer and the player have won. The score of the winner increases by one point. If there is a tie, the score does not increase."
   ]
  },
  {
   "cell_type": "code",
   "execution_count": 9,
   "metadata": {},
   "outputs": [],
   "source": [
    "\n",
    "def display_moves(cpu, player):\n",
    "    print('you:', player)\n",
    "    print('cpu:',  cpu)\n",
    "\n",
    "\n",
    "def display_win_message(winner):\n",
    "    if winner == 0:\n",
    "        global ties\n",
    "        ties += 1\n",
    "        win_message = 'its a tie!'\n",
    "    elif winner == 1:\n",
    "        global cpu_score\n",
    "        cpu_score += 1\n",
    "        win_message = 'Computer won this round!'\n",
    "    else:\n",
    "        global player_score\n",
    "        player_score += 1\n",
    "        win_message = 'You won this round!'\n",
    "    print(win_message)\n",
    "\n",
    "    print('Score: ==>', 'You:', player_score,\n",
    "          \"| Computer:\", cpu_score, '| Ties:', ties)\n",
    "    print('---------------------------------------------\\n')\n",
    "\n",
    "\n",
    "def display_game_results():\n",
    "    if cpu_score > player_score:\n",
    "        print('Winner: Computer! Better Luck next time!')\n",
    "    elif cpu_score == player_score:\n",
    "        print('The game was a Tie!')\n",
    "    else:\n",
    "        print('Winner: You! Congratulations!')\n",
    "    print('\\n---------------- GAME OVER! -----------------\\n\\n')\n"
   ]
  },
  {
   "cell_type": "markdown",
   "metadata": {},
   "source": [
    "#### 10. Now it's time to code the execution of the game using the functions and variables you defined above. \n",
    "\n",
    "First, create a loop structure that repeats while no player reaches the minimum score necessary to win and the number of rounds is less than the maximum number of rounds to play in a game.  \n",
    "\n",
    "Inside the loop, use the functions and variables above to create the execution of a round: ask for the player's choice, generate the random choice of the computer, show the round results, update the scores, etc. "
   ]
  },
  {
   "cell_type": "code",
   "execution_count": 10,
   "metadata": {},
   "outputs": [
    {
     "name": "stdout",
     "output_type": "stream",
     "text": [
      "Round nr. 1\n",
      "rock, paper, scissors? rock\n",
      "you: rock\n",
      "cpu: scissors\n",
      "You won this round!\n",
      "Score: ==> You: 1 | Computer: 0 | Ties: 0\n",
      "---------------------------------------------\n",
      "\n",
      "Round nr. 2\n",
      "rock, paper, scissors? rock\n",
      "you: rock\n",
      "cpu: rock\n",
      "its a tie!\n",
      "Score: ==> You: 1 | Computer: 0 | Ties: 1\n",
      "---------------------------------------------\n",
      "\n",
      "Round nr. 3\n",
      "rock, paper, scissors? paper\n",
      "you: paper\n",
      "cpu: rock\n",
      "You won this round!\n",
      "Score: ==> You: 2 | Computer: 0 | Ties: 1\n",
      "---------------------------------------------\n",
      "\n",
      "Round nr. 4\n",
      "rock, paper, scissors? paper\n",
      "you: paper\n",
      "cpu: paper\n",
      "its a tie!\n",
      "Score: ==> You: 2 | Computer: 0 | Ties: 2\n",
      "---------------------------------------------\n",
      "\n",
      "Round nr. 5\n",
      "rock, paper, scissors? rock\n",
      "you: rock\n",
      "cpu: scissors\n",
      "You won this round!\n",
      "Score: ==> You: 3 | Computer: 0 | Ties: 2\n",
      "---------------------------------------------\n",
      "\n"
     ]
    }
   ],
   "source": [
    "while cpu_score < rounds_to_win and player_score < rounds_to_win and current_round < n_rounds:\n",
    "    current_round += 1\n",
    "    cpu_move = get_cpu_move()\n",
    "    print(\"Round nr.\", current_round)\n",
    "    player_move = get_player_move()\n",
    "    display_moves(cpu_move, player_move)\n",
    "    winner = get_winner(cpu_move, player_move)\n",
    "    display_win_message(winner)"
   ]
  },
  {
   "cell_type": "markdown",
   "metadata": {},
   "source": [
    "#### 11. Print the winner of the game based on who won more rounds.\n",
    "Remember that the game might be tied. "
   ]
  },
  {
   "cell_type": "code",
   "execution_count": 11,
   "metadata": {},
   "outputs": [
    {
     "name": "stdout",
     "output_type": "stream",
     "text": [
      "Winner: You! Congratulations!\n",
      "\n",
      "---------------- GAME OVER! -----------------\n",
      "\n",
      "\n"
     ]
    }
   ],
   "source": [
    "display_game_results()"
   ]
  },
  {
   "cell_type": "markdown",
   "metadata": {},
   "source": [
    "# Bonus: Rock, Paper, Scissors, Lizard & Spock\n",
    "![](images/rpsls.jpg)\n",
    "\n",
    "In this challenge, you need to improve the previous game by adding two new options. To know more about the rules of the improved version of rock, paper, scissors, check this [link](http://www.samkass.com/theories/RPSSL.html). \n",
    "\n",
    "In addition, you will also need to improve how the game interacts with the player: the number of rounds to play, which must be an odd number, will be requested to the user until a valid number is entered. Define a new function to make that request.\n",
    "\n",
    "**Hint**: Try to reuse the code that you already coded in the previous challenge. If your code is efficient, this bonus will only consist of simple modifications to the original game."
   ]
  },
  {
   "cell_type": "code",
   "execution_count": 12,
   "metadata": {},
   "outputs": [
    {
     "name": "stdout",
     "output_type": "stream",
     "text": [
      "Enter number of Rounds (must be odd): 4\n",
      "Enter number of Rounds (must be odd): y\n",
      "Enter number of Rounds (must be odd): 3\n",
      "Round nr. 1\n",
      "rock, paper, scissors, spock, lizard? spock\n",
      "you: spock\n",
      "cpu: rock\n",
      "You won this round!\n",
      "Score: ==> You: 1 | Computer: 0 | Ties: 0\n",
      "---------------------------------------------\n",
      "\n",
      "Round nr. 2\n",
      "rock, paper, scissors, spock, lizard? lizard\n",
      "you: lizard\n",
      "cpu: lizard\n",
      "its a tie!\n",
      "Score: ==> You: 1 | Computer: 0 | Ties: 1\n",
      "---------------------------------------------\n",
      "\n",
      "Round nr. 3\n",
      "rock, paper, scissors, spock, lizard? rock\n",
      "you: rock\n",
      "cpu: lizard\n",
      "You won this round!\n",
      "Score: ==> You: 2 | Computer: 0 | Ties: 1\n",
      "---------------------------------------------\n",
      "\n",
      "Winner: You! Congratulations!\n",
      "\n",
      "---------------- GAME OVER! -----------------\n",
      "\n",
      "\n"
     ]
    }
   ],
   "source": [
    "from random import choice\n",
    "ROCK = 'rock'\n",
    "PAPER = 'paper'\n",
    "SCISSORS = 'scissors'\n",
    "LIZARD = 'lizard'\n",
    "SPOCK = 'spock'\n",
    "CPU = 'cpu'\n",
    "PLAYER = 'player'\n",
    "\n",
    "gestures = [ROCK, PAPER, SCISSORS, LIZARD, SPOCK]\n",
    "cpu_score = 0\n",
    "player_score = 0\n",
    "ties = 0\n",
    "current_round = 0\n",
    "\n",
    "\n",
    "def get_n_rounds():\n",
    "    n = 0\n",
    "    while True:\n",
    "        try:\n",
    "            n = int(input('Enter number of Rounds (must be odd): '))\n",
    "        except ValueError:\n",
    "            continue\n",
    "        else:\n",
    "            if n % 2 == 0:\n",
    "                continue\n",
    "            else:\n",
    "                break\n",
    "    return n\n",
    "\n",
    "\n",
    "def get_cpu_move():\n",
    "    return choice(gestures)\n",
    "\n",
    "\n",
    "def get_player_move():\n",
    "    player = None\n",
    "    while player not in gestures:\n",
    "        player = input('rock, paper, scissors, spock, lizard? ').lower()\n",
    "    return player\n",
    "\n",
    "\n",
    "def get_winner(cpu, player):\n",
    "    if cpu == player:\n",
    "        return 0\n",
    "    winner = 1\n",
    "    if cpu == ROCK and (player == PAPER or player == SPOCK):\n",
    "        winner = 2\n",
    "    elif cpu == PAPER and (player == SCISSORS or player == LIZARD):\n",
    "        winner = 2\n",
    "    elif cpu == SCISSORS and (player == ROCK or player == SPOCK):\n",
    "        winner = 2\n",
    "    elif cpu == SPOCK and (player == LIZARD or player == PAPER):\n",
    "        winner = 2\n",
    "    elif cpu == LIZARD and (player == ROCK or player == SCISSORS):\n",
    "        winner = 2\n",
    "    return winner\n",
    "\n",
    "\n",
    "def display_moves(cpu, player):\n",
    "    print('you:', player)\n",
    "    print('cpu:',  cpu)\n",
    "\n",
    "\n",
    "def display_win_message(winner):\n",
    "    if winner == 0:\n",
    "        global ties\n",
    "        ties += 1\n",
    "        win_message = 'its a tie!'\n",
    "    elif winner == 1:\n",
    "        global cpu_score\n",
    "        cpu_score += 1\n",
    "        win_message = 'Computer won this round!'\n",
    "    else:\n",
    "        global player_score\n",
    "        player_score += 1\n",
    "        win_message = 'You won this round!'\n",
    "    print(win_message)\n",
    "\n",
    "    print('Score: ==>', 'You:', player_score,\n",
    "          \"| Computer:\", cpu_score, '| Ties:', ties)\n",
    "    print('---------------------------------------------\\n')\n",
    "\n",
    "\n",
    "def display_game_results():\n",
    "    if cpu_score > player_score:\n",
    "        print('Winner: Computer! Better Luck next time!')\n",
    "    elif cpu_score == player_score:\n",
    "        print('The game was a Tie!')\n",
    "    else:\n",
    "        print('Winner: You! Congratulations!')\n",
    "    print('\\n---------------- GAME OVER! -----------------\\n\\n')\n",
    "\n",
    "\n",
    "n_rounds = get_n_rounds()\n",
    "rounds_to_win = round((n_rounds+1)/2)\n",
    "\n",
    "while cpu_score < rounds_to_win and player_score < rounds_to_win and current_round < n_rounds:\n",
    "    current_round += 1\n",
    "    cpu_move = get_cpu_move()\n",
    "    print(\"Round nr.\", current_round)\n",
    "    player_move = get_player_move()\n",
    "    display_moves(cpu_move, player_move)\n",
    "    winner = get_winner(cpu_move, player_move)\n",
    "    display_win_message(winner)\n",
    "\n",
    "display_game_results()\n"
   ]
  },
  {
   "cell_type": "code",
   "execution_count": null,
   "metadata": {},
   "outputs": [],
   "source": []
  }
 ],
 "metadata": {
  "kernelspec": {
   "display_name": "Python 3",
   "language": "python",
   "name": "python3"
  },
  "language_info": {
   "codemirror_mode": {
    "name": "ipython",
    "version": 3
   },
   "file_extension": ".py",
   "mimetype": "text/x-python",
   "name": "python",
   "nbconvert_exporter": "python",
   "pygments_lexer": "ipython3",
   "version": "3.7.5"
  }
 },
 "nbformat": 4,
 "nbformat_minor": 2
}
